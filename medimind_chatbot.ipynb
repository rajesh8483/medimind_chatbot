{
  "nbformat": 4,
  "nbformat_minor": 0,
  "metadata": {
    "colab": {
      "provenance": [],
      "gpuType": "T4",
      "authorship_tag": "ABX9TyOQ9CR5ror3YhuQBxeTMNqI",
      "include_colab_link": true
    },
    "kernelspec": {
      "name": "python3",
      "display_name": "Python 3"
    },
    "language_info": {
      "name": "python"
    },
    "accelerator": "GPU"
  },
  "cells": [
    {
      "cell_type": "markdown",
      "metadata": {
        "id": "view-in-github",
        "colab_type": "text"
      },
      "source": [
        "<a href=\"https://colab.research.google.com/github/rajesh8483/medimind_chatbot/blob/main/medimind_chatbot.ipynb\" target=\"_parent\"><img src=\"https://colab.research.google.com/assets/colab-badge.svg\" alt=\"Open In Colab\"/></a>"
      ]
    },
    {
      "cell_type": "code",
      "execution_count": null,
      "metadata": {
        "id": "pVmzCJCsIP7S"
      },
      "outputs": [],
      "source": [
        "! pip install gradio\n",
        "\n",
        "import pandas as pd\n",
        "import re\n",
        "import json\n",
        "import os\n",
        "import datetime\n",
        "import joblib\n",
        "import gradio as gr\n",
        "import tensorflow as tf\n",
        "from transformers import DistilBertTokenizer, TFDistilBertForSequenceClassification\n",
        "from sklearn.preprocessing import LabelEncoder\n",
        "from sklearn.model_selection import train_test_split"
      ]
    },
    {
      "cell_type": "code",
      "source": [
        "# Load and preprocess dataset\n",
        "df = pd.read_csv(\"/content/medimind_india_raw_data.csv\")\n",
        "df.dropna(subset=[\"symptoms\", \"disease\", \"treatment_plan\"], inplace=True)\n",
        "df.reset_index(drop=True, inplace=True)"
      ],
      "metadata": {
        "id": "REF2De5-JHAf"
      },
      "execution_count": null,
      "outputs": []
    },
    {
      "cell_type": "code",
      "source": [
        "def clean_text(text):\n",
        "    return re.sub(r\"[^\\w\\s]\", \"\", text.lower()).strip()\n",
        "\n",
        "# Clean symptoms and encode disease labels\n",
        "df[\"symptoms\"] = df[\"symptoms\"].apply(clean_text)\n",
        "df[\"disease\"] = df[\"disease\"].astype(str)\n",
        "\n",
        "label_encoder = LabelEncoder()\n",
        "df[\"label\"] = label_encoder.fit_transform(df[\"disease\"])\n",
        "num_labels = len(label_encoder.classes_)"
      ],
      "metadata": {
        "id": "CXSaNo2UJHCA"
      },
      "execution_count": null,
      "outputs": []
    },
    {
      "cell_type": "code",
      "source": [
        "# Load tokenizer\n",
        "tokenizer = DistilBertTokenizer.from_pretrained(\"distilbert-base-uncased\")"
      ],
      "metadata": {
        "id": "dN4csbFrJHGS"
      },
      "execution_count": null,
      "outputs": []
    },
    {
      "cell_type": "code",
      "source": [
        "# Paths for model and encoder\n",
        "model_path = \"disease_model\"\n",
        "encoder_path = \"label_encoder.joblib\""
      ],
      "metadata": {
        "id": "s2-Xu1AUJHIA"
      },
      "execution_count": null,
      "outputs": []
    },
    {
      "cell_type": "code",
      "source": [
        "# Load or train model\n",
        "if os.path.exists(model_path) and os.path.exists(encoder_path):\n",
        "    model = TFDistilBertForSequenceClassification.from_pretrained(model_path)\n",
        "    label_encoder = joblib.load(encoder_path)\n",
        "else:\n",
        "    model = TFDistilBertForSequenceClassification.from_pretrained(\n",
        "        \"distilbert-base-uncased\", num_labels=num_labels\n",
        "    )\n",
        "    model.compile(\n",
        "        optimizer=tf.keras.optimizers.Adam(5e-5),\n",
        "        loss=tf.keras.losses.SparseCategoricalCrossentropy(from_logits=True),\n",
        "        metrics=[\"accuracy\"]\n",
        "    )\n",
        "    encodings = tokenizer(df[\"symptoms\"].tolist(), truncation=True, padding=True, max_length=128, return_tensors=\"tf\")\n",
        "    dataset = tf.data.Dataset.from_tensor_slices((dict(encodings), df[\"label\"].values)).shuffle(len(df)).batch(16)\n",
        "    train_size = int(0.8 * len(dataset))\n",
        "    model.fit(dataset.take(train_size), validation_data=dataset.skip(train_size), epochs=3)\n",
        "    model.save_pretrained(model_path)\n",
        "    joblib.dump(label_encoder, encoder_path)"
      ],
      "metadata": {
        "id": "U8gUCiu0JHL8"
      },
      "execution_count": null,
      "outputs": []
    },
    {
      "cell_type": "code",
      "source": [
        "def clinical_decision(disease):\n",
        "    if \"infarction\" in disease.lower() or \"cardiac\" in disease.lower():\n",
        "        return {\n",
        "            \"symptom_analysis\": {\n",
        "                \"differential_diagnoses\": [\n",
        "                    {\"name\": \"Acute myocardial infarction (STEMI)\", \"confidence\": \"92%\"},\n",
        "                    {\"name\": \"Unstable angina\", \"confidence\": \"5%\"},\n",
        "                    {\"name\": \"Aortic dissection\", \"confidence\": \"2%\"},\n",
        "                    {\"name\": \"Pulmonary embolism\", \"confidence\": \"1%\"}\n",
        "                ],\n",
        "                \"alert\": \"Immediate cardiology consult recommended.\"\n",
        "            },\n",
        "            \"decision_support\": {\n",
        "                \"immediate_actions\": [\n",
        "                    \"Aspirin 325 mg (chewable) stat.\",\n",
        "                    \"Heparin bolus and infusion.\",\n",
        "                    \"Prepare for PCI within 90 minutes.\"\n",
        "                ],\n",
        "                \"follow_ups\": [\n",
        "                    \"Repeat ECG in 30 minutes.\",\n",
        "                    \"Monitor troponin every 6 hours.\"\n",
        "                ],\n",
        "                \"documentation\": \"STEMI diagnosed; aspirin and heparin initiated; PCI planned.\"\n",
        "            }\n",
        "        }\n",
        "    elif \"diabetes\" in disease.lower():\n",
        "        return {\n",
        "            \"symptom_analysis\": {\n",
        "                \"differential_diagnoses\": [\n",
        "                    {\"name\": \"Type 2 diabetes mellitus\", \"confidence\": \"90%\"},\n",
        "                    {\"name\": \"Type 1 diabetes\", \"confidence\": \"5%\"},\n",
        "                    {\"name\": \"Hyperthyroidism\", \"confidence\": \"3%\"},\n",
        "                    {\"name\": \"Malignancy\", \"confidence\": \"2%\"}\n",
        "                ],\n",
        "                \"alert\": \"Monitor glucose and refer for diet and lifestyle counseling.\"\n",
        "            },\n",
        "            \"decision_support\": {\n",
        "                \"immediate_actions\": [\n",
        "                    \"Metformin 500 mg once daily.\",\n",
        "                    \"Refer to dietician for low-carb diet.\"\n",
        "                ],\n",
        "                \"follow_ups\": [\n",
        "                    \"Repeat HbA1c in 3 months.\",\n",
        "                    \"Order lipid panel and kidney tests.\"\n",
        "                ],\n",
        "                \"documentation\": \"Start metformin and follow a healthy diet.\"\n",
        "            }\n",
        "        }\n",
        "    else:\n",
        "        return {\n",
        "            \"symptom_analysis\": {\n",
        "                \"differential_diagnoses\": [{\"name\": disease, \"confidence\": \"80%\"}],\n",
        "                \"alert\": \"Further evaluation recommended.\"\n",
        "            },\n",
        "            \"decision_support\": {\n",
        "                \"immediate_actions\": [\"Supportive care\"],\n",
        "                \"follow_ups\": [\"Follow-up in 1 week\"],\n",
        "                \"documentation\": f\"Diagnosis: {disease}\"\n",
        "            }\n",
        "        }\n"
      ],
      "metadata": {
        "id": "J0sDiCvTJHNP"
      },
      "execution_count": null,
      "outputs": []
    },
    {
      "cell_type": "code",
      "source": [
        "def analyze_patient(name, age, gender, symptoms, history, tests, query):\n",
        "    input_text = f\"{symptoms} {history} {tests} {query}\".lower()\n",
        "    inputs = tokenizer(input_text, return_tensors=\"tf\", truncation=True, padding=True, max_length=128)\n",
        "    logits = model(inputs).logits\n",
        "    prediction = tf.argmax(logits, axis=1).numpy()[0]\n",
        "    predicted_disease = label_encoder.inverse_transform([prediction])[0]\n",
        "    decision = clinical_decision(predicted_disease)\n",
        "\n",
        "    patient_record = {\n",
        "        \"timestamp\": str(datetime.datetime.now()),\n",
        "        \"name\": name,\n",
        "        \"age\": age,\n",
        "        \"gender\": gender,\n",
        "        \"input\": {\n",
        "            \"symptoms\": symptoms,\n",
        "            \"history\": history,\n",
        "            \"tests\": tests,\n",
        "            \"query\": query\n",
        "        },\n",
        "        \"predicted_disease\": predicted_disease,\n",
        "        \"outputs\": decision\n",
        "    }\n",
        "\n",
        "    # Save to files\n",
        "    with open(\"patient_records.jsonl\", \"a\") as f_json:\n",
        "        f_json.write(json.dumps(patient_record) + \"\\n\")\n",
        "\n",
        "    df_path = \"patient_records.csv\"\n",
        "    csv_row = {\n",
        "        \"timestamp\": patient_record[\"timestamp\"],\n",
        "        \"name\": name,\n",
        "        \"age\": age,\n",
        "        \"gender\": gender,\n",
        "        \"symptoms\": symptoms,\n",
        "        \"history\": history,\n",
        "        \"tests\": tests,\n",
        "        \"query\": query,\n",
        "        \"predicted_disease\": predicted_disease\n",
        "    }\n",
        "    df_new = pd.DataFrame([csv_row])\n",
        "    if not os.path.exists(df_path):\n",
        "        df_new.to_csv(df_path, index=False)\n",
        "    else:\n",
        "        df_existing = pd.read_csv(df_path)\n",
        "        df_all = pd.concat([df_existing, df_new], ignore_index=True)\n",
        "        df_all.to_csv(df_path, index=False)\n",
        "\n",
        "    # Format output like MediMind clinical examples\n",
        "    readable_output = f\"\"\"## Clinical Summary for {name} ({age}, {gender})\\n\n",
        "**Input**:\n",
        "- Symptoms: {symptoms}\n",
        "- Medical History: {history}\n",
        "- Test Results: {tests}\n",
        "- Physician Query: {query}\n",
        "\n",
        "**Output (Symptom Analysis)**:\n",
        "\"\"\" + \"\\n\".join([f\"- {d['name']}: {d['confidence']}\" for d in decision['symptom_analysis']['differential_diagnoses']]) + \\\n",
        "f\"\"\"\\n- Alert: {decision['symptom_analysis']['alert']}\n",
        "\n",
        "**Output (Clinical Decision Support)**:\n",
        "- Immediate Actions:\n",
        "\"\"\" + \"\\n\".join([f\"  - {act}\" for act in decision['decision_support']['immediate_actions']]) + \\\n",
        "f\"\"\"\\n- Follow-Ups:\\n\"\"\" + \"\\n\".join([f\"  - {f}\" for f in decision['decision_support']['follow_ups']]) + \\\n",
        "f\"\"\"\\n- Documentation: {decision['decision_support']['documentation']}\"\"\"\n",
        "\n",
        "    return predicted_disease, readable_output\n"
      ],
      "metadata": {
        "id": "hCcOOGINRqb6"
      },
      "execution_count": null,
      "outputs": []
    },
    {
      "cell_type": "code",
      "source": [
        "def run_gradio():\n",
        "    interface = gr.Interface(\n",
        "        fn=analyze_patient,\n",
        "        inputs=[\n",
        "            gr.Textbox(label=\"Patient Name\"),\n",
        "            gr.Textbox(label=\"Age\"),\n",
        "            gr.Radio([\"Male\", \"Female\", \"Other\"], label=\"Gender\"),\n",
        "            gr.Textbox(label=\"Symptoms\", lines=2, placeholder=\"E.g., chest pain, sweating...\"),\n",
        "            gr.Textbox(label=\"Medical History\", lines=2),\n",
        "            gr.Textbox(label=\"Test Results\", lines=2),\n",
        "            gr.Textbox(label=\"Physician Query\", lines=2, placeholder=\"What’s the likely diagnosis, and what should we do?\")\n",
        "        ],\n",
        "        outputs=[\n",
        "            gr.Textbox(label=\"Predicted Disease\"),\n",
        "            gr.Textbox(label=\"Detailed Report\", lines=20)\n",
        "        ],\n",
        "        title=\" MediMind - AI Medical Assistant\",\n",
        "        description=\"Enter patient details to get disease prediction and clinical decision support.\",\n",
        "        allow_flagging=\"never\"\n",
        "    )\n",
        "    interface.launch(share=True)\n",
        "run_gradio()\n"
      ],
      "metadata": {
        "id": "2ijvSIKkQWSc"
      },
      "execution_count": null,
      "outputs": []
    },
    {
      "cell_type": "code",
      "source": [],
      "metadata": {
        "id": "xyQ87U7OJHZC"
      },
      "execution_count": null,
      "outputs": []
    },
    {
      "cell_type": "code",
      "source": [],
      "metadata": {
        "id": "9ygC96sLJHdr"
      },
      "execution_count": null,
      "outputs": []
    },
    {
      "cell_type": "code",
      "source": [],
      "metadata": {
        "id": "h54lQYbWJHfD"
      },
      "execution_count": null,
      "outputs": []
    },
    {
      "cell_type": "code",
      "source": [],
      "metadata": {
        "id": "OtAI9KLlJHjx"
      },
      "execution_count": null,
      "outputs": []
    },
    {
      "cell_type": "code",
      "source": [],
      "metadata": {
        "id": "P2TPvXAmJHlK"
      },
      "execution_count": null,
      "outputs": []
    },
    {
      "cell_type": "code",
      "source": [],
      "metadata": {
        "id": "pNrC045UJHp7"
      },
      "execution_count": null,
      "outputs": []
    },
    {
      "cell_type": "code",
      "source": [],
      "metadata": {
        "id": "-JejMUOgJHrT"
      },
      "execution_count": null,
      "outputs": []
    },
    {
      "cell_type": "code",
      "source": [],
      "metadata": {
        "id": "yJifcp0qJHwS"
      },
      "execution_count": null,
      "outputs": []
    },
    {
      "cell_type": "code",
      "source": [],
      "metadata": {
        "id": "yqyXrLsGJHxq"
      },
      "execution_count": null,
      "outputs": []
    },
    {
      "cell_type": "code",
      "source": [],
      "metadata": {
        "id": "nXSqFfx8JH1_"
      },
      "execution_count": null,
      "outputs": []
    },
    {
      "cell_type": "code",
      "source": [],
      "metadata": {
        "id": "WfIN-zQfJH3Y"
      },
      "execution_count": null,
      "outputs": []
    },
    {
      "cell_type": "code",
      "source": [],
      "metadata": {
        "id": "y8ZzKW8jJH7-"
      },
      "execution_count": null,
      "outputs": []
    },
    {
      "cell_type": "code",
      "source": [],
      "metadata": {
        "id": "OaRiFxoAJH9i"
      },
      "execution_count": null,
      "outputs": []
    },
    {
      "cell_type": "code",
      "source": [],
      "metadata": {
        "id": "wetS507xJIBn"
      },
      "execution_count": null,
      "outputs": []
    },
    {
      "cell_type": "code",
      "source": [],
      "metadata": {
        "id": "G8XxvdNvJIC_"
      },
      "execution_count": null,
      "outputs": []
    }
  ]
}